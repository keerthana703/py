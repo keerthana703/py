{
 "cells": [
  {
   "cell_type": "code",
   "execution_count": 1,
   "id": "dc522509-76b4-4c20-b441-0b51b7ea57f5",
   "metadata": {},
   "outputs": [],
   "source": [
    "import tensorflow as tf\n",
    "from tensorflow import keras\n",
    "import tensorflowjs as tfjs\n",
    "vgg16 = tf.keras.applications.vgg16.VGG16()\n",
    "tfjs.converters.save_keras_model(vgg16,'../../tfjs/tfjs-models/VGG16')"
   ]
  },
  {
   "cell_type": "code",
   "execution_count": null,
   "id": "41eeb7c5-b36e-4dc2-9a38-2a4ed6f3d16d",
   "metadata": {},
   "outputs": [],
   "source": []
  },
  {
   "cell_type": "code",
   "execution_count": null,
   "id": "e93aad2c-5665-487b-a9a1-8b69d1d20a21",
   "metadata": {},
   "outputs": [],
   "source": []
  },
  {
   "cell_type": "code",
   "execution_count": null,
   "id": "613f5b9a-028e-4042-849b-755283214ccf",
   "metadata": {},
   "outputs": [],
   "source": []
  }
 ],
 "metadata": {
  "kernelspec": {
   "display_name": "Python 3",
   "language": "python",
   "name": "python3"
  },
  "language_info": {
   "codemirror_mode": {
    "name": "ipython",
    "version": 3
   },
   "file_extension": ".py",
   "mimetype": "text/x-python",
   "name": "python",
   "nbconvert_exporter": "python",
   "pygments_lexer": "ipython3",
   "version": "3.8.8"
  }
 },
 "nbformat": 4,
 "nbformat_minor": 5
}
